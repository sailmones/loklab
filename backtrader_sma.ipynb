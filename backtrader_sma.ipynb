{
 "cells": [
  {
   "cell_type": "code",
   "execution_count": 1,
   "metadata": {},
   "outputs": [
    {
     "name": "stdout",
     "output_type": "stream",
     "text": [
      "                 Date      Open      High       Low     Close  Volume\n",
      "0  20221209  07:00:00  1789.255  1790.185  1789.145  1789.385      -1\n",
      "1  20221209  08:00:00  1789.385  1790.415  1788.575  1790.380      -1\n",
      "2  20221209  09:00:00  1790.380  1795.825  1789.940  1794.300      -1\n",
      "3  20221209  10:00:00  1794.300  1794.685  1792.125  1793.345      -1\n",
      "4  20221209  11:00:00  1793.345  1795.610  1793.165  1795.270      -1\n",
      "5  20221209  12:00:00  1795.270  1797.585  1795.270  1796.605      -1\n",
      "6  20221209  13:00:00  1796.605  1797.820  1795.065  1795.200      -1\n",
      "7  20221209  14:00:00  1795.200  1796.350  1793.805  1795.770      -1\n",
      "8  20221209  15:00:00  1795.770  1797.045  1791.080  1792.890      -1\n",
      "9  20221209  16:00:00  1792.890  1792.940  1790.820  1791.225      -1\n"
     ]
    },
    {
     "ename": "ImportError",
     "evalue": "cannot import name 'warnings' from 'matplotlib.dates' (c:\\Users\\capin\\anaconda3\\envs\\loklab\\lib\\site-packages\\matplotlib\\dates.py)",
     "output_type": "error",
     "traceback": [
      "\u001b[1;31m---------------------------------------------------------------------------\u001b[0m",
      "\u001b[1;31mImportError\u001b[0m                               Traceback (most recent call last)",
      "Cell \u001b[1;32mIn[1], line 33\u001b[0m\n\u001b[0;32m     30\u001b[0m cerebro\u001b[39m.\u001b[39mrun()\n\u001b[0;32m     32\u001b[0m \u001b[39m#5. Plot rusult\u001b[39;00m\n\u001b[1;32m---> 33\u001b[0m cerebro\u001b[39m.\u001b[39;49mplot()\n",
      "File \u001b[1;32mc:\\Users\\capin\\anaconda3\\envs\\loklab\\lib\\site-packages\\backtrader\\cerebro.py:974\u001b[0m, in \u001b[0;36mCerebro.plot\u001b[1;34m(self, plotter, numfigs, iplot, start, end, width, height, dpi, tight, use, **kwargs)\u001b[0m\n\u001b[0;32m    971\u001b[0m     \u001b[39mreturn\u001b[39;00m\n\u001b[0;32m    973\u001b[0m \u001b[39mif\u001b[39;00m \u001b[39mnot\u001b[39;00m plotter:\n\u001b[1;32m--> 974\u001b[0m     \u001b[39mfrom\u001b[39;00m \u001b[39m.\u001b[39;00m \u001b[39mimport\u001b[39;00m plot\n\u001b[0;32m    975\u001b[0m     \u001b[39mif\u001b[39;00m \u001b[39mself\u001b[39m\u001b[39m.\u001b[39mp\u001b[39m.\u001b[39moldsync:\n\u001b[0;32m    976\u001b[0m         plotter \u001b[39m=\u001b[39m plot\u001b[39m.\u001b[39mPlot_OldSync(\u001b[39m*\u001b[39m\u001b[39m*\u001b[39mkwargs)\n",
      "File \u001b[1;32mc:\\Users\\capin\\anaconda3\\envs\\loklab\\lib\\site-packages\\backtrader\\plot\\__init__.py:42\u001b[0m\n\u001b[0;32m     36\u001b[0m     \u001b[39mexcept\u001b[39;00m:\n\u001b[0;32m     37\u001b[0m         \u001b[39m# if another backend has already been loaded, an exception will be\u001b[39;00m\n\u001b[0;32m     38\u001b[0m         \u001b[39m# generated and this can be skipped\u001b[39;00m\n\u001b[0;32m     39\u001b[0m         \u001b[39mpass\u001b[39;00m\n\u001b[1;32m---> 42\u001b[0m \u001b[39mfrom\u001b[39;00m \u001b[39m.\u001b[39;00m\u001b[39mplot\u001b[39;00m \u001b[39mimport\u001b[39;00m Plot, Plot_OldSync\n\u001b[0;32m     43\u001b[0m \u001b[39mfrom\u001b[39;00m \u001b[39m.\u001b[39;00m\u001b[39mscheme\u001b[39;00m \u001b[39mimport\u001b[39;00m PlotScheme\n",
      "File \u001b[1;32mc:\\Users\\capin\\anaconda3\\envs\\loklab\\lib\\site-packages\\backtrader\\plot\\plot.py:44\u001b[0m\n\u001b[0;32m     42\u001b[0m \u001b[39mfrom\u001b[39;00m \u001b[39m.\u001b[39;00m\u001b[39mfinance\u001b[39;00m \u001b[39mimport\u001b[39;00m plot_candlestick, plot_ohlc, plot_volume, plot_lineonclose\n\u001b[0;32m     43\u001b[0m \u001b[39mfrom\u001b[39;00m \u001b[39m.\u001b[39;00m\u001b[39mformatters\u001b[39;00m \u001b[39mimport\u001b[39;00m (MyVolFormatter, MyDateFormatter, getlocator)\n\u001b[1;32m---> 44\u001b[0m \u001b[39mfrom\u001b[39;00m \u001b[39m.\u001b[39;00m \u001b[39mimport\u001b[39;00m locator \u001b[39mas\u001b[39;00m loc\n\u001b[0;32m     45\u001b[0m \u001b[39mfrom\u001b[39;00m \u001b[39m.\u001b[39;00m\u001b[39mmulticursor\u001b[39;00m \u001b[39mimport\u001b[39;00m MultiCursor\n\u001b[0;32m     46\u001b[0m \u001b[39mfrom\u001b[39;00m \u001b[39m.\u001b[39;00m\u001b[39mscheme\u001b[39;00m \u001b[39mimport\u001b[39;00m PlotScheme\n",
      "File \u001b[1;32mc:\\Users\\capin\\anaconda3\\envs\\loklab\\lib\\site-packages\\backtrader\\plot\\locator.py:35\u001b[0m\n\u001b[0;32m     32\u001b[0m \u001b[39mfrom\u001b[39;00m \u001b[39mmatplotlib\u001b[39;00m\u001b[39m.\u001b[39;00m\u001b[39mdates\u001b[39;00m \u001b[39mimport\u001b[39;00m RRuleLocator \u001b[39mas\u001b[39;00m RRLocator\n\u001b[0;32m     33\u001b[0m \u001b[39mfrom\u001b[39;00m \u001b[39mmatplotlib\u001b[39;00m\u001b[39m.\u001b[39;00m\u001b[39mdates\u001b[39;00m \u001b[39mimport\u001b[39;00m AutoDateFormatter \u001b[39mas\u001b[39;00m ADFormatter\n\u001b[1;32m---> 35\u001b[0m \u001b[39mfrom\u001b[39;00m \u001b[39mmatplotlib\u001b[39;00m\u001b[39m.\u001b[39;00m\u001b[39mdates\u001b[39;00m \u001b[39mimport\u001b[39;00m (HOURS_PER_DAY, MIN_PER_HOUR, SEC_PER_MIN,\n\u001b[0;32m     36\u001b[0m                               MONTHS_PER_YEAR, DAYS_PER_WEEK,\n\u001b[0;32m     37\u001b[0m                               SEC_PER_HOUR, SEC_PER_DAY,\n\u001b[0;32m     38\u001b[0m                               num2date, rrulewrapper, YearLocator,\n\u001b[0;32m     39\u001b[0m                               MicrosecondLocator, warnings)\n\u001b[0;32m     41\u001b[0m \u001b[39mfrom\u001b[39;00m \u001b[39mdateutil\u001b[39;00m\u001b[39m.\u001b[39;00m\u001b[39mrelativedelta\u001b[39;00m \u001b[39mimport\u001b[39;00m relativedelta\n\u001b[0;32m     42\u001b[0m \u001b[39mimport\u001b[39;00m \u001b[39mnumpy\u001b[39;00m \u001b[39mas\u001b[39;00m \u001b[39mnp\u001b[39;00m\n",
      "\u001b[1;31mImportError\u001b[0m: cannot import name 'warnings' from 'matplotlib.dates' (c:\\Users\\capin\\anaconda3\\envs\\loklab\\lib\\site-packages\\matplotlib\\dates.py)"
     ]
    }
   ],
   "source": [
    "# -*- coding: utf-8 -*-\n",
    "#from __future__ import (absolute_import, division, print_function, unicode_literals)\n",
    "\n",
    "import datetime\n",
    "import backtrader as bt\n",
    "import pandas as pd\n",
    "import os.path  # To manage paths\n",
    "import sys  # To find out the script name (in argv[0])\n",
    "class MyStrategy(bt.Strategy):\n",
    "    pass\n",
    "\n",
    "#1. create cerebro\n",
    "cerebro = bt.Cerebro()\n",
    "\n",
    "#2. Add datafeed\n",
    "#2.1 Create a data feed\n",
    "df = pd.read_csv(\"xauusd.csv\")\n",
    "print(df)\n",
    "df['Date'] = pd.to_datetime(df['Date'])\n",
    "df.set_index('Date', inplace=True)\n",
    "brf = bt.feeds.PandasData(dataname = df, fromdate = datetime.datetime(2022,1,1), todate=datetime.datetime(2022,12,9))\n",
    "\n",
    "#2.2 Add the Data Feed to Cerebro\n",
    "cerebro.adddata(brf)\n",
    "\n",
    "#3. Add strategy\n",
    "cerebro.addstrategy(MyStrategy)\n",
    "\n",
    "#4. Run\n",
    "cerebro.run()\n",
    "\n",
    "#5. Plot rusult\n",
    "cerebro.plot()"
   ]
  }
 ],
 "metadata": {
  "kernelspec": {
   "display_name": "Python 3.10.8 ('loklab')",
   "language": "python",
   "name": "python3"
  },
  "language_info": {
   "codemirror_mode": {
    "name": "ipython",
    "version": 3
   },
   "file_extension": ".py",
   "mimetype": "text/x-python",
   "name": "python",
   "nbconvert_exporter": "python",
   "pygments_lexer": "ipython3",
   "version": "3.10.8"
  },
  "orig_nbformat": 4,
  "vscode": {
   "interpreter": {
    "hash": "5fac4d116c8ecd92534a75af0dbdd3850b2a1b0a1015db0abd1b2d026bf55380"
   }
  }
 },
 "nbformat": 4,
 "nbformat_minor": 2
}
